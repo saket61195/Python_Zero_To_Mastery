{
 "cells": [
  {
   "cell_type": "code",
   "execution_count": null,
   "metadata": {},
   "outputs": [],
   "source": []
  }
 ],
 "metadata": {
  "kernelspec": {
   "display_name": "Python 3.10.6 ('ztmpyhton')",
   "language": "python",
   "name": "python3"
  },
  "language_info": {
   "name": "python",
   "version": "3.10.6"
  },
  "vscode": {
   "interpreter": {
    "hash": "327d2e6bdce869717fc27c0c93521e2baebccdb610e8d55e4f7c80555bf0b190"
   }
  }
 },
 "nbformat": 4,
 "nbformat_minor": 5
}
