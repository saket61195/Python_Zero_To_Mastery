{
 "cells": [
  {
   "cell_type": "markdown",
   "id": "6f18eec2",
   "metadata": {},
   "source": [
    "step 3 (Split data. Training Set/Test Set)"
   ]
  },
  {
   "cell_type": "code",
   "execution_count": 36,
   "id": "fe2ca776",
   "metadata": {},
   "outputs": [],
   "source": [
    "from sklearn.datasets import load_iris\n",
    "iris = load_iris()"
   ]
  },
  {
   "cell_type": "code",
   "execution_count": 37,
   "id": "5eaee6f4",
   "metadata": {},
   "outputs": [],
   "source": [
    "X = iris.data\n",
    "Y = iris.target\n",
    "feature_names = iris.feature_names \n",
    "target_names = iris.target_names\n",
    "\n",
    "# print(feature_names)\n",
    "# print(target_names)\n",
    "# print(X)\n",
    "# print(Y)\n",
    "# type(X)"
   ]
  },
  {
   "cell_type": "code",
   "execution_count": 38,
   "id": "95d26228",
   "metadata": {},
   "outputs": [
    {
     "name": "stdout",
     "output_type": "stream",
     "text": [
      "(105, 4)\n",
      "(45, 4)\n",
      "(105,)\n",
      "(45,)\n"
     ]
    }
   ],
   "source": [
    "from sklearn.model_selection import train_test_split\n",
    "# this is used to split the data randomly into training and test set\n",
    "x_train, x_test, y_train, y_test = train_test_split(X, Y, test_size = 0.3)\n",
    "# test_size = 0.3 means 30% of the total data will be testing data, and remaining 70% will be training data.\n",
    "print(x_train.shape)\n",
    "print(x_test.shape)\n",
    "print(y_train.shape)\n",
    "print(y_test.shape)"
   ]
  },
  {
   "cell_type": "markdown",
   "id": "d5d880af",
   "metadata": {},
   "source": [
    "step 4 (Create a Model )"
   ]
  },
  {
   "cell_type": "code",
   "execution_count": 39,
   "id": "1e6d8792",
   "metadata": {},
   "outputs": [],
   "source": [
    "from sklearn.neighbors import KNeighborsClassifier\n",
    "knn = KNeighborsClassifier(n_neighbors = 3)\n",
    "knn.fit(x_train, y_train)\n",
    "y_pred = knn.predict(x_test)"
   ]
  },
  {
   "cell_type": "code",
   "execution_count": 40,
   "id": "6992c95e",
   "metadata": {},
   "outputs": [
    {
     "name": "stdout",
     "output_type": "stream",
     "text": [
      "0.9777777777777777\n"
     ]
    }
   ],
   "source": [
    "from sklearn import metrics\n",
    "print(metrics.accuracy_score(y_test,y_pred))"
   ]
  },
  {
   "cell_type": "code",
   "execution_count": null,
   "id": "2caa50ab",
   "metadata": {},
   "outputs": [],
   "source": []
  }
 ],
 "metadata": {
  "kernelspec": {
   "display_name": "Python 3 (ipykernel)",
   "language": "python",
   "name": "python3"
  },
  "language_info": {
   "codemirror_mode": {
    "name": "ipython",
    "version": 3
   },
   "file_extension": ".py",
   "mimetype": "text/x-python",
   "name": "python",
   "nbconvert_exporter": "python",
   "pygments_lexer": "ipython3",
   "version": "3.10.6"
  },
  "vscode": {
   "interpreter": {
    "hash": "327d2e6bdce869717fc27c0c93521e2baebccdb610e8d55e4f7c80555bf0b190"
   }
  }
 },
 "nbformat": 4,
 "nbformat_minor": 5
}
